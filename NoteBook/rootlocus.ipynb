{
  "nbformat": 4,
  "nbformat_minor": 0,
  "metadata": {
    "colab": {
      "provenance": [],
      "authorship_tag": "ABX9TyM8jP1mHb6ShoBi51e9nGdy",
      "include_colab_link": true
    },
    "kernelspec": {
      "name": "python3",
      "display_name": "Python 3"
    },
    "language_info": {
      "name": "python"
    }
  },
  "cells": [
    {
      "cell_type": "markdown",
      "metadata": {
        "id": "view-in-github",
        "colab_type": "text"
      },
      "source": [
        "<a href=\"https://colab.research.google.com/github/Barbod24/LinearControl/blob/main/NoteBook/rootlocus.ipynb\" target=\"_parent\"><img src=\"https://colab.research.google.com/assets/colab-badge.svg\" alt=\"Open In Colab\"/></a>"
      ]
    },
    {
      "cell_type": "code",
      "execution_count": null,
      "metadata": {
        "id": "ccJyNAfWkfcc"
      },
      "outputs": [],
      "source": [
        "import numpy as np\n",
        "import matplotlib.pyplot as plt\n",
        "import control as ctrl\n",
        "\n",
        "numerator = [1]\n",
        "denominator = [1, 2, 0]\n",
        "\n",
        "system = ctrl.TransferFunction(numerator, denominator)\n",
        "\n",
        "plt.figure()\n",
        "ctrl.root_locus(system, grid=True)\n",
        "plt.title(\"Root Locus of 1/((s+2)*s)\")\n",
        "plt.show()\n"
      ]
    }
  ]
}