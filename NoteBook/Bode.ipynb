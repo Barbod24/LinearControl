{
  "nbformat": 4,
  "nbformat_minor": 0,
  "metadata": {
    "colab": {
      "provenance": [],
      "authorship_tag": "ABX9TyN2d5XHQttfzFWZ/EABllD3",
      "include_colab_link": true
    },
    "kernelspec": {
      "name": "python3",
      "display_name": "Python 3"
    },
    "language_info": {
      "name": "python"
    }
  },
  "cells": [
    {
      "cell_type": "markdown",
      "metadata": {
        "id": "view-in-github",
        "colab_type": "text"
      },
      "source": [
        "<a href=\"https://colab.research.google.com/github/Barbod24/LinearControl/blob/main/NoteBook/Bode.ipynb\" target=\"_parent\"><img src=\"https://colab.research.google.com/assets/colab-badge.svg\" alt=\"Open In Colab\"/></a>"
      ]
    },
    {
      "cell_type": "code",
      "execution_count": null,
      "metadata": {
        "id": "SuRKd9U_pHZa"
      },
      "outputs": [],
      "source": [
        "import numpy as np\n",
        "import matplotlib.pyplot as plt\n",
        "import control as ctrl\n",
        "\n",
        "numerator = [1]\n",
        "denominator = [1, 2, 0]\n",
        "\n",
        "system = ctrl.TransferFunction(numerator, denominator)\n",
        "\n",
        "plt.figure()\n",
        "ctrl.bode(system, dB=True, Hz=False, deg=True)\n",
        "plt.show()\n"
      ]
    }
  ]
}